{
 "cells": [
  {
   "cell_type": "code",
   "execution_count": 1,
   "id": "5506e164",
   "metadata": {},
   "outputs": [
    {
     "name": "stdout",
     "output_type": "stream",
     "text": [
      "Collecting docx2txt\n",
      "  Downloading docx2txt-0.8.tar.gz (2.8 kB)\n",
      "  Preparing metadata (setup.py): started\n",
      "  Preparing metadata (setup.py): finished with status 'done'\n",
      "Building wheels for collected packages: docx2txt\n",
      "  Building wheel for docx2txt (setup.py): started\n",
      "  Building wheel for docx2txt (setup.py): finished with status 'done'\n",
      "  Created wheel for docx2txt: filename=docx2txt-0.8-py3-none-any.whl size=3973 sha256=74f0df0e796ee89fc075f071860920154691d2930f57e12c0f62495dc0e48f08\n",
      "  Stored in directory: c:\\users\\abinay rachakonda\\appdata\\local\\pip\\cache\\wheels\\3c\\78\\a3\\ef70996aa66e38229494dbd84cd747e2e0668f1940bf4a7de8\n",
      "Successfully built docx2txt\n",
      "Installing collected packages: docx2txt\n",
      "Successfully installed docx2txt-0.8\n",
      "Note: you may need to restart the kernel to use updated packages.\n"
     ]
    }
   ],
   "source": [
    "pip install docx2txt"
   ]
  },
  {
   "cell_type": "code",
   "execution_count": 1,
   "id": "fc00f963",
   "metadata": {},
   "outputs": [
    {
     "name": "stdout",
     "output_type": "stream",
     "text": [
      "Collecting pdfplumberNote: you may need to restart the kernel to use updated packages.\n",
      "\n",
      "  Downloading pdfplumber-0.10.3-py3-none-any.whl (48 kB)\n",
      "     -------------------------------------- 49.0/49.0 kB 823.7 kB/s eta 0:00:00\n",
      "Requirement already satisfied: Pillow>=9.1 in c:\\users\\abinay rachakonda\\anaconda\\lib\\site-packages (from pdfplumber) (9.4.0)\n",
      "Collecting pdfminer.six==20221105\n",
      "  Downloading pdfminer.six-20221105-py3-none-any.whl (5.6 MB)\n",
      "     ---------------------------------------- 5.6/5.6 MB 10.9 MB/s eta 0:00:00\n",
      "Collecting pypdfium2>=4.18.0\n",
      "  Downloading pypdfium2-4.24.0-py3-none-win_amd64.whl (2.7 MB)\n",
      "     ---------------------------------------- 2.7/2.7 MB 12.5 MB/s eta 0:00:00\n",
      "Requirement already satisfied: cryptography>=36.0.0 in c:\\users\\abinay rachakonda\\anaconda\\lib\\site-packages (from pdfminer.six==20221105->pdfplumber) (39.0.1)\n",
      "Requirement already satisfied: charset-normalizer>=2.0.0 in c:\\users\\abinay rachakonda\\anaconda\\lib\\site-packages (from pdfminer.six==20221105->pdfplumber) (2.0.4)\n",
      "Requirement already satisfied: cffi>=1.12 in c:\\users\\abinay rachakonda\\anaconda\\lib\\site-packages (from cryptography>=36.0.0->pdfminer.six==20221105->pdfplumber) (1.15.1)\n",
      "Requirement already satisfied: pycparser in c:\\users\\abinay rachakonda\\anaconda\\lib\\site-packages (from cffi>=1.12->cryptography>=36.0.0->pdfminer.six==20221105->pdfplumber) (2.21)\n",
      "Installing collected packages: pypdfium2, pdfminer.six, pdfplumber\n",
      "Successfully installed pdfminer.six-20221105 pdfplumber-0.10.3 pypdfium2-4.24.0\n"
     ]
    }
   ],
   "source": [
    "pip install pdfplumber"
   ]
  },
  {
   "cell_type": "code",
   "execution_count": 6,
   "id": "32bbeef5",
   "metadata": {},
   "outputs": [
    {
     "name": "stdout",
     "output_type": "stream",
     "text": [
      "['Share RESUME.docx']\n"
     ]
    }
   ],
   "source": [
    "import os\n",
    "import docx2txt\n",
    "dir_path=(r\"C:\\Users\\Abinay Rachakonda\\Downloads\\resume\")\n",
    "files=os.listdir(dir_path)\n",
    "print(files)#file name"
   ]
  },
  {
   "cell_type": "code",
   "execution_count": 32,
   "id": "286b9e6b",
   "metadata": {},
   "outputs": [
    {
     "name": "stdout",
     "output_type": "stream",
     "text": [
      "RESUME\n",
      "\n",
      "\n",
      "\n",
      "NAME: RACHAKONDA ABHINAY\n",
      "\n",
      "GMAIL: abhinayrachakonda304@gmail.com\n",
      "\n",
      "LINKEDIN: https://www.linkedin.com/in/abhinay-rachakonda-068b58235/ \n",
      "\n",
      "GIHUB: https://github.com/abhinay9505/\n",
      "\n",
      "MOBILE NO: 9505467301\n",
      "\n",
      "\n",
      "\n",
      "CAREER OBJECTIVES: \n",
      "\n",
      "                       To secure a challenging position in a reputable organization to expand my learnings, knowledge, skills Work towards growth of organisation and to get new experience .\n",
      "\n",
      "STRENGTHS:\n",
      "\n",
      "            Strong work ethic and determination to succeed and Good communication skills ability to work in teams.\n",
      "\n",
      "and discipline , patience ,dedication towards work.\n",
      "\n",
      "ACADEMIC PROFILE:\n",
      "\n",
      "GRADUATE BACHELOR IN COMMERCE  with computer applications  ,SATAVAHANA UNIVERSITY , Nalanda degree collage with 72%  ,Year  2020 - 2023\n",
      "\n",
      "Intermediate : CEC ,BOARD OF TELAGANA INTERMEDIETA EDUCATION  ,ALPHORES JUNIOR COLLEGE Percentage: 53%,Year:2018-2020\n",
      "\n",
      "Secondary school certificate : Raghavendra high school with Percentage: 7.7 GPA ,Year: 2017-2018\n",
      "\n",
      " TECHNICAL  QULIFICATIONS\n",
      "\n",
      "MS- office \n",
      "\n",
      "Tally ERP 9\n",
      "\n",
      "Python\n",
      "\n",
      "Numpy\n",
      "\n",
      "Pandas\n",
      "\n",
      "Matplotlib\n",
      "\n",
      "Sea born\n",
      "\n",
      "Power BI\n",
      "\n",
      "SQL\n",
      "\n",
      "SKILLS: good communication skills and basic knowledge on software and better in system work\n",
      "\n",
      "interest: system work and business management.\n",
      "\n",
      "WORK EXPERIENCE:  fresher \n",
      "\n",
      "                                                                                                                                                        \n",
      "\n",
      "                                                 PERSONAL PROFLlE \n",
      "\n",
      "Name: Rachakonda Abhinay\n",
      "\n",
      "Name of father: Gangadhar\n",
      "\n",
      "Name of mother: Latha\n",
      "\n",
      "Date of birth: 18-06-2001\n",
      "\n",
      "Gender: male\n",
      "\n",
      "Meterial status: single\n",
      "\n",
      "Nationality: india\n",
      "\n",
      "Mother tongue: telugu\n",
      "\n",
      "Permanent address: oblapur,madal: mallial  district jagtial , telangana\n",
      "\n",
      "   languages known: Telugu , English \n",
      "\n",
      "                                                                   DELACRATION:\n",
      "\n",
      "  I solemnly declare that particulars of information and facts in the resume are facts in the resume are complete and correct    And I take full responsibility for the accuracy of the information.\n",
      "\n",
      "DATE:\n",
      "\n",
      "PLACE: HYDERABAD                                                                                                                               SIGNATURE:\n",
      "\n",
      "                                                                                                                                                      (RACHAKONDA ABHINAY)\n"
     ]
    }
   ],
   "source": [
    "path = (r\"C:\\Users\\Abinay Rachakonda\\Downloads\\resume\\\\Rachakonda Abhinay.docx\")\n",
    "file_name = \"Share RESUME.docx\"\n",
    "\n",
    "file_path = path+ file_name\n",
    "\n",
    "text= docx2txt.process(path)\n",
    "print(text)"
   ]
  },
  {
   "cell_type": "code",
   "execution_count": 1,
   "id": "0ac3287b",
   "metadata": {},
   "outputs": [],
   "source": [
    "import pdfplumber"
   ]
  },
  {
   "cell_type": "code",
   "execution_count": 6,
   "id": "34a6824b",
   "metadata": {},
   "outputs": [
    {
     "name": "stdout",
     "output_type": "stream",
     "text": [
      "Rachakonda Abhinay\n",
      "Aspiring Data Scientist\n",
      "abhinayrachakonda304@gmail.com +919505467301 karimnager https://www.linkedin.com/in/abhinay-rachakonda-068b58235/\n",
      "https://github.com/abhinay9505/\n",
      "CAREER OBJECTIVES:\n",
      "To secure a challenging position in a reputable organization to expand my learnings, knowledge, skills Work towards growth of organisation and to get\n",
      "new experience .\n",
      "STRENGTHS:\n",
      "I tend to channel my focus on a singular task at time ensuring thorough concentration.\n",
      "PROFILE\n",
      "Name: Rachakonda Abhinay\n",
      "Name of father: Gangadhar\n",
      "Name of mother: Latha\n",
      "Date of birth: 18-06-2001\n",
      "Gender: male\n",
      "Meterial status: single\n",
      "Nationality: India\n",
      "Mother tongue: Telugu\n",
      "Permanent address: Obulapur , Madal: mallial ,district: Jagtial , Telangana\n",
      "EDUCATION\n",
      "karimnagar, Telangana GRADUATE BACHELOR IN COMMERCE with computer applications, SATAVAHANA UNIVERSITY\n",
      "Nalanda degree collage\n",
      "percentage: 72% ,Year :2020-2023\n",
      "jagtial, Telangana Intermediate\n",
      "CEC ,BOARD OF TELAGANA INTERMEDIETA EDUCATION ,ALPHORES JUNIOR COLLEGE\n",
      "Percentage: 53%,\n",
      "Year:2018-2020\n",
      "Jagtail, Telagana,india Secondary school certificate\n",
      "Raghavendra high school with\n",
      "Percentage: 7.7 GPA ,\n",
      "Year: 2017-2018\n",
      "LANGUAGES\n",
      "Telugu English\n",
      "SKILLS\n",
      "python numpy\n",
      "pandas matplotlib\n",
      "seaborn power BI\n",
      "SQL Exploratory Data analysis\n",
      "Machine Learning and Deep Learning\n",
      "PROJECTS\n",
      "Data analysis on \"trips and travel.com\" company\n",
      "https://github.com/abhinay9505/Data-analysis/blob/main/tourism_dataset%20(2).ipynb\n",
      "Web Scraping and Exploratory Data Analysis\n",
      "https://github.com/abhinay9505/Data-analysis/blob/main/mycar-analysis.ipynb\n",
      "Natural Language Processing\n",
      "https://github.com/abhinay9505/machine-Learning-/blob/main/sentiment%20analysis.ipynb\n",
      "Enhancing Search Engine\n",
      "https://github.com/abhinay9505/machine-Learning-/blob/main/_Enhancing%20Search%20Engine%20subtitles.ipynb\n",
      "Computer Vision Project\n",
      "https://github.com/abhinay9505/machine-Learning-/blob/main/sentiment%20analysis.ipynb\n",
      "DECLARATION\n",
      "I solemnly declare that particulars of information and facts in the resume are facts in the resume are complete and correct And I take full responsibility\n",
      "for the accuracy of the information.\n",
      "Rachakonda Abhinay\n",
      "Hyderabad\n"
     ]
    }
   ],
   "source": [
    "\n",
    "path = (r\"C:\\Users\\Abinay Rachakonda\\Downloads\\Rachakonda-Abhinay-FlowCV-Resume-20240122 (4).pdf\")\n",
    "file_name = \"Rachakonda Abhinay.pdf\"\n",
    "\n",
    "file_path = path+ file_name\n",
    "\n",
    "with pdfplumber.open(path) as pdf:\n",
    "    for page in pdf.pages:\n",
    "        text=page.extract_text()\n",
    "        print(text)\n",
    "        \n"
   ]
  },
  {
   "cell_type": "code",
   "execution_count": null,
   "id": "3fe2d823",
   "metadata": {},
   "outputs": [],
   "source": []
  }
 ],
 "metadata": {
  "kernelspec": {
   "display_name": "Python 3 (ipykernel)",
   "language": "python",
   "name": "python3"
  },
  "language_info": {
   "codemirror_mode": {
    "name": "ipython",
    "version": 3
   },
   "file_extension": ".py",
   "mimetype": "text/x-python",
   "name": "python",
   "nbconvert_exporter": "python",
   "pygments_lexer": "ipython3",
   "version": "3.10.9"
  }
 },
 "nbformat": 4,
 "nbformat_minor": 5
}
